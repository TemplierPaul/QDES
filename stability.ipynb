{
 "cells": [
  {
   "cell_type": "code",
   "execution_count": 87,
   "metadata": {},
   "outputs": [],
   "source": [
    "import argparse\n",
    "import jax\n",
    "import jax.numpy as jnp\n",
    "import matplotlib.pyplot as plt\n",
    "# %matplotlib inline\n",
    "%matplotlib inline"
   ]
  },
  {
   "cell_type": "code",
   "execution_count": 88,
   "metadata": {},
   "outputs": [],
   "source": [
    "def net_shape(net):\n",
    "    return jax.tree_map(lambda x: x.shape, net)"
   ]
  },
  {
   "cell_type": "code",
   "execution_count": 89,
   "metadata": {},
   "outputs": [],
   "source": [
    "from qdax.core.rl_es_parts.es_setup import setup_es"
   ]
  },
  {
   "cell_type": "code",
   "execution_count": 90,
   "metadata": {},
   "outputs": [],
   "source": [
    "default_args = {\n",
    "    'env_name': 'halfcheetah_uni',\n",
    "    'episode_length': 1000,\n",
    "    'evals': 1000000,\n",
    "    'seed': 42,\n",
    "    'policy_hidden_layer_sizes': 128,\n",
    "    'critic_hidden_layer_sizes': 128,\n",
    "    'deterministic': True,\n",
    "    'num_init_cvt_samples': 50000,\n",
    "    'num_centroids': 1024,\n",
    "    'min_bd': 0.0,\n",
    "    'max_bd': 1.0,\n",
    "    'es': 'canonical',\n",
    "    'pop': 100,\n",
    "    'es_sigma': 1,\n",
    "    'sample_mirror': False,\n",
    "    'sample_rank_norm': False,\n",
    "    'adam_optimizer': False,\n",
    "    'learning_rate': 1, \n",
    "    'l2_coefficient': 0.02,\n",
    "    'nses_emitter': False,\n",
    "    'novelty_nearest_neighbors': 10,\n",
    "    'rl': False,\n",
    "    'testrl': False,\n",
    "    'carlies': False,\n",
    "    'elastic_pull': 0,\n",
    "    'discount': 0.99,\n",
    "    'actor_injection': True,\n",
    "    'injection_clip': False,\n",
    "    'nb_injections': 1,\n",
    "    'critic_training': 1000,\n",
    "    'pg_training': 1000,\n",
    "    'actor_lr': 3e-4,\n",
    "    'critic_lr': 3e-4,\n",
    "    'es_target': False,\n",
    "    'surrogate': False,\n",
    "    'surrogate_batch': 1024,\n",
    "    'surrogate_omega': 0.6,\n",
    "    'spearman': False,\n",
    "    'output': '',\n",
    "    'plot': False,\n",
    "    'wandb': '',\n",
    "    'tag': '',\n",
    "    'jobid': '',\n",
    "    'log_period': 1,\n",
    "    'debug': True,\n",
    "    'logall': False\n",
    "}\n",
    "\n",
    "# make like an argparse result\n",
    "args = argparse.Namespace(**default_args)\n",
    "\n",
    "if args.carlies or args.testrl or args.surrogate or args.spearman or args.actor_injection:\n",
    "    args.rl = True\n",
    "    # args.actor_injection = False\n",
    "\n",
    "if args.es_target and not args.rl:\n",
    "    raise ValueError(\"ES target requires RL\")\n",
    "\n",
    "if args.injection_clip and not args.actor_injection:\n",
    "    raise ValueError(\"Injection clip requires actor injection\")\n",
    "\n",
    "if args.debug:\n",
    "    # Cheap ES to debug\n",
    "    debug_values = {\n",
    "        # 'env_name': 'walker2d_uni',\n",
    "        'episode_length': 100,\n",
    "        \"pop\": 10,\n",
    "        'evals': 100,\n",
    "        'policy_hidden_layer_sizes': 16,\n",
    "        'critic_hidden_layer_sizes': 16,\n",
    "        \"output\": \"debug\",\n",
    "        'surrogate_batch': 10,\n",
    "    }\n",
    "    for k, v in debug_values.items():\n",
    "        setattr(args, k, v)\n",
    "\n",
    "log_period = args.log_period\n",
    "args.num_gens = args.evals // args.pop\n",
    "# num_loops = int(args.num_gens / log_period)\n",
    "\n",
    "args.policy_hidden_layer_sizes = (args.policy_hidden_layer_sizes, args.policy_hidden_layer_sizes)\n",
    "args.critic_hidden_layer_sizes = (args.critic_hidden_layer_sizes, args.critic_hidden_layer_sizes)\n",
    "\n",
    "algos = {\n",
    "    'open': 'OpenAI',\n",
    "    'openai': 'OpenAI',\n",
    "    'canonical': 'Canonical',\n",
    "    'cmaes': 'CMAES',\n",
    "    'random': 'Random',\n",
    "}\n",
    "args.algo = algos[args.es]\n",
    "\n",
    "suffix = ''\n",
    "if args.rl:\n",
    "    suffix = '-RL'\n",
    "if args.carlies:\n",
    "    suffix = '-CARLIES'\n",
    "if args.testrl:\n",
    "    suffix = '-TestRL'\n",
    "if args.surrogate:\n",
    "    suffix = '-Surrogate'\n",
    "if args.spearman:\n",
    "    suffix = '-Spearman'\n",
    "args.algo += f\"{suffix}\"\n",
    "\n",
    "\n",
    "if args.actor_injection:\n",
    "    args.algo += \"-AI\""
   ]
  },
  {
   "cell_type": "code",
   "execution_count": 91,
   "metadata": {},
   "outputs": [
    {
     "data": {
      "text/plain": [
       "'Canonical-RL-AI'"
      ]
     },
     "execution_count": 91,
     "metadata": {},
     "output_type": "execute_result"
    }
   ],
   "source": [
    "args.algo"
   ]
  },
  {
   "cell_type": "code",
   "execution_count": 92,
   "metadata": {},
   "outputs": [
    {
     "name": "stdout",
     "output_type": "stream",
     "text": [
      "Imported modules\n"
     ]
    },
    {
     "ename": "KeyboardInterrupt",
     "evalue": "",
     "output_type": "error",
     "traceback": [
      "\u001b[0;31m---------------------------------------------------------------------------\u001b[0m",
      "\u001b[0;31mKeyboardInterrupt\u001b[0m                         Traceback (most recent call last)",
      "Cell \u001b[0;32mIn[92], line 1\u001b[0m\n\u001b[0;32m----> 1\u001b[0m EM \u001b[39m=\u001b[39m setup_es(args)\n",
      "File \u001b[0;32m~/Documents/Doctorat/Dev/QDax/qdax/core/rl_es_parts/es_setup.py:75\u001b[0m, in \u001b[0;36msetup_es\u001b[0;34m(args)\u001b[0m\n\u001b[1;32m     69\u001b[0m     \u001b[39mprint\u001b[39m(\u001b[39m\"\u001b[39m\u001b[39mInitialized wandb\u001b[39m\u001b[39m\"\u001b[39m)\n\u001b[1;32m     71\u001b[0m \u001b[39m###############\u001b[39;00m\n\u001b[1;32m     72\u001b[0m \u001b[39m# Environment #\u001b[39;00m\n\u001b[1;32m     73\u001b[0m \n\u001b[1;32m     74\u001b[0m \u001b[39m# Init environment\u001b[39;00m\n\u001b[0;32m---> 75\u001b[0m env \u001b[39m=\u001b[39m environments\u001b[39m.\u001b[39;49mcreate(\n\u001b[1;32m     76\u001b[0m     args\u001b[39m.\u001b[39;49menv_name, \n\u001b[1;32m     77\u001b[0m     episode_length\u001b[39m=\u001b[39;49margs\u001b[39m.\u001b[39;49mepisode_length,\n\u001b[1;32m     78\u001b[0m     fixed_init_state\u001b[39m=\u001b[39;49m args\u001b[39m.\u001b[39;49mdeterministic\n\u001b[1;32m     79\u001b[0m     )\n\u001b[1;32m     81\u001b[0m \u001b[39m# Init a random key\u001b[39;00m\n\u001b[1;32m     82\u001b[0m random_key \u001b[39m=\u001b[39m jax\u001b[39m.\u001b[39mrandom\u001b[39m.\u001b[39mPRNGKey(args\u001b[39m.\u001b[39mseed)\n",
      "File \u001b[0;32m~/Documents/Doctorat/Dev/QDax/qdax/environments/__init__.py:150\u001b[0m, in \u001b[0;36mcreate\u001b[0;34m(env_name, episode_length, action_repeat, auto_reset, batch_size, eval_metrics, fixed_init_state, qdax_wrappers_kwargs, **kwargs)\u001b[0m\n\u001b[1;32m    148\u001b[0m base_env_name \u001b[39m=\u001b[39m _qdax_custom_envs[env_name][\u001b[39m\"\u001b[39m\u001b[39menv\u001b[39m\u001b[39m\"\u001b[39m]\n\u001b[1;32m    149\u001b[0m \u001b[39mif\u001b[39;00m base_env_name \u001b[39min\u001b[39;00m brax\u001b[39m.\u001b[39menvs\u001b[39m.\u001b[39m_envs\u001b[39m.\u001b[39mkeys():\n\u001b[0;32m--> 150\u001b[0m     env \u001b[39m=\u001b[39m brax\u001b[39m.\u001b[39;49menvs\u001b[39m.\u001b[39;49m_envs[base_env_name](legacy_spring\u001b[39m=\u001b[39;49m\u001b[39mTrue\u001b[39;49;00m, \u001b[39m*\u001b[39;49m\u001b[39m*\u001b[39;49mkwargs)\n\u001b[1;32m    151\u001b[0m \u001b[39melif\u001b[39;00m base_env_name \u001b[39min\u001b[39;00m _qdax_envs\u001b[39m.\u001b[39mkeys():\n\u001b[1;32m    152\u001b[0m     env \u001b[39m=\u001b[39m _qdax_envs[base_env_name](\u001b[39m*\u001b[39m\u001b[39m*\u001b[39mkwargs)  \u001b[39m# type: ignore\u001b[39;00m\n",
      "File \u001b[0;32m~/miniconda3/envs/qdax_env/lib/python3.9/site-packages/brax/envs/half_cheetah.py:155\u001b[0m, in \u001b[0;36mHalfcheetah.__init__\u001b[0;34m(self, forward_reward_weight, ctrl_cost_weight, reset_noise_scale, legacy_spring, exclude_current_positions_from_observation, **kwargs)\u001b[0m\n\u001b[1;32m    147\u001b[0m \u001b[39mdef\u001b[39;00m \u001b[39m__init__\u001b[39m(\u001b[39mself\u001b[39m,\n\u001b[1;32m    148\u001b[0m              forward_reward_weight\u001b[39m=\u001b[39m\u001b[39m1.0\u001b[39m,\n\u001b[1;32m    149\u001b[0m              ctrl_cost_weight\u001b[39m=\u001b[39m\u001b[39m0.1\u001b[39m,\n\u001b[0;32m   (...)\u001b[0m\n\u001b[1;32m    152\u001b[0m              exclude_current_positions_from_observation\u001b[39m=\u001b[39m\u001b[39mTrue\u001b[39;00m,\n\u001b[1;32m    153\u001b[0m              \u001b[39m*\u001b[39m\u001b[39m*\u001b[39mkwargs):\n\u001b[1;32m    154\u001b[0m   config \u001b[39m=\u001b[39m _SYSTEM_CONFIG_SPRING \u001b[39mif\u001b[39;00m legacy_spring \u001b[39melse\u001b[39;00m _SYSTEM_CONFIG\n\u001b[0;32m--> 155\u001b[0m   \u001b[39msuper\u001b[39;49m()\u001b[39m.\u001b[39;49m\u001b[39m__init__\u001b[39;49m(config\u001b[39m=\u001b[39;49mconfig, \u001b[39m*\u001b[39;49m\u001b[39m*\u001b[39;49mkwargs)\n\u001b[1;32m    157\u001b[0m   \u001b[39mself\u001b[39m\u001b[39m.\u001b[39m_forward_reward_weight \u001b[39m=\u001b[39m forward_reward_weight\n\u001b[1;32m    158\u001b[0m   \u001b[39mself\u001b[39m\u001b[39m.\u001b[39m_ctrl_cost_weight \u001b[39m=\u001b[39m ctrl_cost_weight\n",
      "File \u001b[0;32m~/miniconda3/envs/qdax_env/lib/python3.9/site-packages/brax/envs/env.py:44\u001b[0m, in \u001b[0;36mEnv.__init__\u001b[0;34m(self, config)\u001b[0m\n\u001b[1;32m     42\u001b[0m \u001b[39mif\u001b[39;00m config:\n\u001b[1;32m     43\u001b[0m   config \u001b[39m=\u001b[39m text_format\u001b[39m.\u001b[39mParse(config, brax\u001b[39m.\u001b[39mConfig())\n\u001b[0;32m---> 44\u001b[0m   \u001b[39mself\u001b[39m\u001b[39m.\u001b[39msys \u001b[39m=\u001b[39m brax\u001b[39m.\u001b[39;49mSystem(config)\n",
      "File \u001b[0;32m~/miniconda3/envs/qdax_env/lib/python3.9/site-packages/brax/physics/system.py:70\u001b[0m, in \u001b[0;36mSystem.__init__\u001b[0;34m(self, config, resource_paths)\u001b[0m\n\u001b[1;32m     68\u001b[0m \u001b[39mself\u001b[39m\u001b[39m.\u001b[39mintegrator \u001b[39m=\u001b[39m integrators\u001b[39m.\u001b[39mEuler(config)\n\u001b[1;32m     69\u001b[0m zero_p \u001b[39m=\u001b[39m P(jp\u001b[39m.\u001b[39mzeros((\u001b[39mself\u001b[39m\u001b[39m.\u001b[39mnum_bodies, \u001b[39m3\u001b[39m)), jp\u001b[39m.\u001b[39mzeros((\u001b[39mself\u001b[39m\u001b[39m.\u001b[39mnum_bodies, \u001b[39m3\u001b[39m)))\n\u001b[0;32m---> 70\u001b[0m info \u001b[39m=\u001b[39m \u001b[39mself\u001b[39m\u001b[39m.\u001b[39minfo(\u001b[39mself\u001b[39;49m\u001b[39m.\u001b[39;49mdefault_qp())\n\u001b[1;32m     71\u001b[0m \u001b[39mself\u001b[39m\u001b[39m.\u001b[39mzero_info \u001b[39m=\u001b[39m Info(\n\u001b[1;32m     72\u001b[0m     contact\u001b[39m=\u001b[39mzero_p,\n\u001b[1;32m     73\u001b[0m     joint\u001b[39m=\u001b[39mzero_p,\n\u001b[0;32m   (...)\u001b[0m\n\u001b[1;32m     76\u001b[0m     contact_normal\u001b[39m=\u001b[39mjp\u001b[39m.\u001b[39mzeros_like(info\u001b[39m.\u001b[39mcontact_normal),\n\u001b[1;32m     77\u001b[0m     contact_penetration\u001b[39m=\u001b[39m\u001b[39m-\u001b[39mjp\u001b[39m.\u001b[39mones_like(info\u001b[39m.\u001b[39mcontact_penetration))\n",
      "File \u001b[0;32m~/miniconda3/envs/qdax_env/lib/python3.9/site-packages/brax/physics/system.py:226\u001b[0m, in \u001b[0;36mSystem.default_qp\u001b[0;34m(self, default_index, joint_angle, joint_velocity)\u001b[0m\n\u001b[1;32m    223\u001b[0m     root_idx[parent]\u001b[39m.\u001b[39mappend(\u001b[39mself\u001b[39m\u001b[39m.\u001b[39mbody\u001b[39m.\u001b[39mindex[j\u001b[39m.\u001b[39mchild])\n\u001b[1;32m    225\u001b[0m \u001b[39mfor\u001b[39;00m children \u001b[39min\u001b[39;00m root_idx\u001b[39m.\u001b[39mvalues():\n\u001b[0;32m--> 226\u001b[0m   zs \u001b[39m=\u001b[39m jp\u001b[39m.\u001b[39marray([\n\u001b[1;32m    227\u001b[0m       bodies\u001b[39m.\u001b[39mmin_z(jp\u001b[39m.\u001b[39mtake(qp, c), \u001b[39mself\u001b[39m\u001b[39m.\u001b[39mconfig\u001b[39m.\u001b[39mbodies[c]) \u001b[39mfor\u001b[39;00m c \u001b[39min\u001b[39;00m children\n\u001b[1;32m    228\u001b[0m   ])\n\u001b[1;32m    229\u001b[0m   min_z \u001b[39m=\u001b[39m jp\u001b[39m.\u001b[39mamin(zs)\n\u001b[1;32m    230\u001b[0m   children \u001b[39m=\u001b[39m jp\u001b[39m.\u001b[39marray(children)\n",
      "File \u001b[0;32m~/miniconda3/envs/qdax_env/lib/python3.9/site-packages/brax/physics/system.py:227\u001b[0m, in \u001b[0;36m<listcomp>\u001b[0;34m(.0)\u001b[0m\n\u001b[1;32m    223\u001b[0m     root_idx[parent]\u001b[39m.\u001b[39mappend(\u001b[39mself\u001b[39m\u001b[39m.\u001b[39mbody\u001b[39m.\u001b[39mindex[j\u001b[39m.\u001b[39mchild])\n\u001b[1;32m    225\u001b[0m \u001b[39mfor\u001b[39;00m children \u001b[39min\u001b[39;00m root_idx\u001b[39m.\u001b[39mvalues():\n\u001b[1;32m    226\u001b[0m   zs \u001b[39m=\u001b[39m jp\u001b[39m.\u001b[39marray([\n\u001b[0;32m--> 227\u001b[0m       bodies\u001b[39m.\u001b[39;49mmin_z(jp\u001b[39m.\u001b[39;49mtake(qp, c), \u001b[39mself\u001b[39;49m\u001b[39m.\u001b[39;49mconfig\u001b[39m.\u001b[39;49mbodies[c]) \u001b[39mfor\u001b[39;00m c \u001b[39min\u001b[39;00m children\n\u001b[1;32m    228\u001b[0m   ])\n\u001b[1;32m    229\u001b[0m   min_z \u001b[39m=\u001b[39m jp\u001b[39m.\u001b[39mamin(zs)\n\u001b[1;32m    230\u001b[0m   children \u001b[39m=\u001b[39m jp\u001b[39m.\u001b[39marray(children)\n",
      "File \u001b[0;32m~/miniconda3/envs/qdax_env/lib/python3.9/site-packages/brax/physics/bodies.py:79\u001b[0m, in \u001b[0;36mmin_z\u001b[0;34m(qp, body)\u001b[0m\n\u001b[1;32m     77\u001b[0m length \u001b[39m=\u001b[39m col\u001b[39m.\u001b[39mcapsule\u001b[39m.\u001b[39mlength \u001b[39m/\u001b[39m \u001b[39m2\u001b[39m \u001b[39m-\u001b[39m col\u001b[39m.\u001b[39mcapsule\u001b[39m.\u001b[39mradius\n\u001b[1;32m     78\u001b[0m \u001b[39mfor\u001b[39;00m end \u001b[39min\u001b[39;00m (\u001b[39m-\u001b[39m\u001b[39m1\u001b[39m, \u001b[39m1\u001b[39m):\n\u001b[0;32m---> 79\u001b[0m   sphere_pos \u001b[39m=\u001b[39m vec_to_arr(col\u001b[39m.\u001b[39mposition) \u001b[39m+\u001b[39m end \u001b[39m*\u001b[39;49m axis \u001b[39m*\u001b[39;49m length\n\u001b[1;32m     80\u001b[0m   sphere_pos \u001b[39m=\u001b[39m math\u001b[39m.\u001b[39mrotate(sphere_pos, qp\u001b[39m.\u001b[39mrot)\n\u001b[1;32m     81\u001b[0m   z \u001b[39m=\u001b[39m qp\u001b[39m.\u001b[39mpos[\u001b[39m2\u001b[39m] \u001b[39m+\u001b[39m sphere_pos[\u001b[39m2\u001b[39m] \u001b[39m-\u001b[39m col\u001b[39m.\u001b[39mcapsule\u001b[39m.\u001b[39mradius\n",
      "\u001b[0;31mKeyboardInterrupt\u001b[0m: "
     ]
    }
   ],
   "source": [
    "EM = setup_es(args)"
   ]
  },
  {
   "cell_type": "code",
   "execution_count": null,
   "metadata": {},
   "outputs": [],
   "source": [
    "es = EM.es\n",
    "env = EM.env\n",
    "policy_network = EM.policy_network\n",
    "emitter = EM.emitter\n",
    "emitter_state = EM.emitter_state\n",
    "repertoire = EM.repertoire\n",
    "random_key = EM.random_key\n",
    "wandb_run  = EM. wandb_run\n",
    "scoring_fn = EM.scoring_fn"
   ]
  },
  {
   "cell_type": "code",
   "execution_count": null,
   "metadata": {},
   "outputs": [],
   "source": [
    "def scores(fitnesses, descriptors) -> jnp.ndarray:\n",
    "    return fitnesses"
   ]
  },
  {
   "cell_type": "code",
   "execution_count": null,
   "metadata": {},
   "outputs": [
    {
     "data": {
      "text/plain": [
       "<qdax.core.rl_es_parts.canonical_es.CanonicalESEmitter at 0x7f1218e08400>"
      ]
     },
     "execution_count": 56,
     "metadata": {},
     "output_type": "execute_result"
    }
   ],
   "source": [
    "emitter.es_emitter"
   ]
  },
  {
   "cell_type": "code",
   "execution_count": null,
   "metadata": {},
   "outputs": [],
   "source": [
    "offspring = emitter_state.es_state.offspring\n",
    "# net_shape(offspring)"
   ]
  },
  {
   "cell_type": "code",
   "execution_count": null,
   "metadata": {},
   "outputs": [],
   "source": [
    "# remove 1 dim\n",
    "offspring = jax.tree_map(lambda x: x.squeeze(0), offspring)\n",
    "# net_shape(offspring)"
   ]
  },
  {
   "cell_type": "code",
   "execution_count": null,
   "metadata": {},
   "outputs": [],
   "source": [
    "actor = emitter_state.rl_state.actor_params\n",
    "# net_shape(actor)"
   ]
  },
  {
   "cell_type": "code",
   "execution_count": null,
   "metadata": {},
   "outputs": [
    {
     "data": {
      "text/plain": [
       "DeviceArray(True, dtype=bool)"
      ]
     },
     "execution_count": 60,
     "metadata": {},
     "output_type": "execute_result"
    }
   ],
   "source": [
    "actor_genes = emitter.es_emitter.flatten(actor)\n",
    "offspring_genes = emitter.es_emitter.flatten(offspring)\n",
    "\n",
    "# check if equal\n",
    "jnp.allclose(actor_genes, offspring_genes)"
   ]
  },
  {
   "cell_type": "code",
   "execution_count": null,
   "metadata": {},
   "outputs": [],
   "source": [
    "\n",
    "\n",
    "# net_shape(interpolated)"
   ]
  },
  {
   "cell_type": "code",
   "execution_count": 102,
   "metadata": {},
   "outputs": [
    {
     "name": "stdout",
     "output_type": "stream",
     "text": [
      "update, (678,)\n"
     ]
    }
   ],
   "source": [
    "def compute_canonical_update(parent, sigma, sample_number, scoring_fn, unflatten_fn, flatten_fn):\n",
    "    # add 1dim to parent\n",
    "    parent = jax.tree_map(lambda x: jnp.expand_dims(x, axis=0), parent)\n",
    "    \n",
    "    # print(f\"Parent, {net_shape(parent)}\")\n",
    "    mu = sample_number // 2\n",
    "    # sample points as gaussian noise\n",
    "    random_key = jax.random.PRNGKey(42)\n",
    "    random_key, subkey = jax.random.split(random_key)\n",
    "\n",
    "    sample_noise = jax.tree_map(\n",
    "        lambda x: jax.random.normal(\n",
    "            key=subkey,\n",
    "            shape=jnp.repeat(x, sample_number, axis=0).shape,\n",
    "        ),\n",
    "        parent,\n",
    "    )\n",
    "\n",
    "    networks = jax.tree_map(\n",
    "        lambda x: jnp.repeat(x, sample_number, axis=0),\n",
    "        parent,\n",
    "    )\n",
    "    networks = jax.tree_map(\n",
    "        lambda mean, noise: mean + sigma * noise,\n",
    "        networks,\n",
    "        sample_noise,\n",
    "    )\n",
    "\n",
    "    # print(f\"networks, {net_shape(networks)}\")\n",
    "\n",
    "    # compute fitness\n",
    "    random_key, subkey = jax.random.split(random_key)\n",
    "    fitnesses, _, _, _ = scoring_fn(networks, subkey)\n",
    "    \n",
    "    # compute update\n",
    "    scores = fitnesses\n",
    "\n",
    "    ranking_indices = jnp.argsort(scores, axis=0) \n",
    "    ranks = jnp.argsort(ranking_indices, axis=0) \n",
    "    ranks = sample_number - ranks # Inverting the ranks\n",
    "    \n",
    "    weights = jnp.where(ranks <= mu, jnp.log(mu+0.5) - jnp.log(ranks), 0) \n",
    "    weights /= jnp.sum(weights) # Normalizing the weights\n",
    "\n",
    "    # Reshaping rank to match shape of genotype_noise\n",
    "    weights = jax.tree_map(\n",
    "        lambda x: jnp.reshape(\n",
    "            jnp.repeat(weights.ravel(), x[0].ravel().shape[0], axis=0), x.shape\n",
    "        ),\n",
    "        sample_noise,\n",
    "    )\n",
    "\n",
    "    # Computing the update\n",
    "    # Noise is multiplied by rank\n",
    "    gradient = jax.tree_map(\n",
    "        lambda noise, rank: jnp.multiply(noise, rank),\n",
    "        sample_noise,\n",
    "        weights,\n",
    "    )\n",
    "    # Noise is summed over the sample dimension and multiplied by sigma\n",
    "    gradient = jax.tree_map(\n",
    "        lambda x: jnp.reshape(x, (sample_number, -1)),\n",
    "        gradient,\n",
    "    )\n",
    "    gradient = jax.tree_map(\n",
    "        lambda g, p: jnp.reshape(\n",
    "            jnp.sum(g, axis=0) * sigma,\n",
    "            p.shape,\n",
    "        ),\n",
    "        gradient,\n",
    "        parent,\n",
    "    )\n",
    "\n",
    "    # remove one dimension\n",
    "    gradient = jax.tree_map(lambda x: x.squeeze(0), gradient)\n",
    "\n",
    "    # flatten\n",
    "    gradient = flatten_fn(gradient)\n",
    "\n",
    "    return gradient\n",
    "    \n",
    "\n",
    "unflatten_fn = jax.vmap(emitter.es_emitter.unflatten)\n",
    "flatten_fn = emitter.es_emitter.flatten\n",
    "scoring_fn = EM.scoring_fn\n",
    "\n",
    "update = compute_canonical_update(offspring, 1, 10, scoring_fn, unflatten_fn, flatten_fn)\n",
    "print(f\"update, {net_shape(update)}\")"
   ]
  },
  {
   "cell_type": "code",
   "execution_count": 109,
   "metadata": {},
   "outputs": [
    {
     "data": {
      "text/plain": [
       "DeviceArray(0.2227022, dtype=float32)"
      ]
     },
     "execution_count": 109,
     "metadata": {},
     "output_type": "execute_result"
    }
   ],
   "source": [
    "# project onto offspring-actor vector\n",
    "actor_genes = emitter.es_emitter.flatten(actor)\n",
    "actor_genes *= 1.1 # make sure it's not equal\n",
    "\n",
    "offspring_genes = emitter.es_emitter.flatten(offspring)\n",
    "vector = actor_genes - offspring_genes\n",
    "\n",
    "update_vec = emitter.es_emitter.flatten(update)\n",
    "update_vec = jnp.dot(update_vec, vector) \n",
    "update_vec "
   ]
  },
  {
   "cell_type": "code",
   "execution_count": 119,
   "metadata": {},
   "outputs": [],
   "source": [
    "def project(update_vec, vector):\n",
    "    update_vec = jnp.dot(update_vec, vector)\n",
    "    # print(f\"update_vec, {net_shape(update_vec)}\")\n",
    "    return update_vec\n",
    "\n",
    "def stability_interpolate(offspring, actor, n_points, sample_size, sigma, EM):\n",
    "    unflatten_fn = jax.vmap(EM.emitter.es_emitter.unflatten)\n",
    "    flatten_fn = EM.emitter.es_emitter.flatten\n",
    "    scoring_fn = EM.scoring_fn\n",
    "\n",
    "    actor_genes = EM.emitter.es_emitter.flatten(actor)\n",
    "    offspring_genes = EM.emitter.es_emitter.flatten(offspring)\n",
    "\n",
    "    vector = actor_genes - offspring_genes\n",
    "\n",
    "    # Interpolate from -1 to 2\n",
    "    alphas = jnp.linspace(-1, 2, n_points)\n",
    "    interpolated = jnp.outer(alphas, vector) + offspring_genes\n",
    "\n",
    "    # print first component of each network\n",
    "    # print(\"Interpolated\", interpolated[:, 0])\n",
    "\n",
    "    networks = unflatten_fn(interpolated)\n",
    "\n",
    "    # print(f\"networks, {net_shape(networks)}\")\n",
    "\n",
    "    # vmap compute_canonical_update over networks\n",
    "    update = jax.vmap(\n",
    "        lambda network: compute_canonical_update(\n",
    "            network, sigma, sample_size, scoring_fn, unflatten_fn, flatten_fn\n",
    "        ),\n",
    "        in_axes=0,\n",
    "    )(networks)\n",
    "\n",
    "    # print(f\"update, {net_shape(update)}\")\n",
    "\n",
    "    # project onto offspring-actor vector\n",
    "    update_comp = jax.vmap(project, in_axes=(0, None))(update, vector)\n",
    "    return alphas, update_comp\n",
    "    \n",
    "fake_actor = jax.tree_map(lambda x: x * 1.1, actor)\n",
    "alphas, update_comp = stability_interpolate(offspring, fake_actor, 10, 10, 1, EM)"
   ]
  },
  {
   "cell_type": "code",
   "execution_count": 121,
   "metadata": {},
   "outputs": [
    {
     "data": {
      "image/png": "[encoded data removed]",
      "text/plain": [
       "<Figure size 2000x1000 with 1 Axes>"
      ]
     },
     "metadata": {},
     "output_type": "display_data"
    }
   ],
   "source": [
    "plt.figure(figsize=(20, 10))\n",
    "plt.plot(alphas, update_comp)\n",
    "plt.scatter(alphas, update_comp, label=\"Update direction\")\n",
    "# Add vertical line at 0 for offspring\n",
    "plt.axvline(x=0, color=\"red\")\n",
    "plt.axvline(x=1, color=\"green\")\n",
    "plt.legend()\n",
    "# Axis\n",
    "plt.xlabel(\"Alpha\")\n",
    "plt.ylabel(\"Update component\")\n",
    "plt.title(\"Update component along interpolation\")\n",
    "plt.show()"
   ]
  }
 ],
 "metadata": {
  "kernelspec": {
   "display_name": "qdax_env",
   "language": "python",
   "name": "python3"
  },
  "language_info": {
   "codemirror_mode": {
    "name": "ipython",
    "version": 3
   },
   "file_extension": ".py",
   "mimetype": "text/x-python",
   "name": "python",
   "nbconvert_exporter": "python",
   "pygments_lexer": "ipython3",
   "version": "3.9.16"
  },
  "orig_nbformat": 4
 },
 "nbformat": 4,
 "nbformat_minor": 2
}
